{
 "cells": [
  {
   "cell_type": "code",
   "execution_count": null,
   "id": "ddca3899-0f70-4509-9995-31214f4c2fdf",
   "metadata": {},
   "outputs": [],
   "source": [
    "First, pip install pandas which we will be using to read and use our training data\n"
   ]
  },
  {
   "cell_type": "code",
   "execution_count": null,
   "id": "6b75ec02-2094-4800-b173-9126dbe79e51",
   "metadata": {},
   "outputs": [],
   "source": [
    "# Create a virtual environment named 'venv'\n",
    "!python -m venv venv"
   ]
  },
  {
   "cell_type": "code",
   "execution_count": null,
   "id": "40edd4b0-4185-4330-a393-e63453dc19d2",
   "metadata": {},
   "outputs": [],
   "source": [
    "# Activate the virtual environment (this may vary depending on your operating system)\n",
    "!source venv/bin/activate  # For Linux/macOS\n",
    "# OR\n",
    "#!venv\\Scripts\\activate  # For Windows\n"
   ]
  },
  {
   "cell_type": "code",
   "execution_count": null,
   "id": "9c2a8559-5745-401c-a15a-3b2a6b49cff2",
   "metadata": {},
   "outputs": [],
   "source": [
    "!pip install -q pandas\n"
   ]
  },
  {
   "cell_type": "code",
   "execution_count": null,
   "id": "c1562e18-109a-4ecd-b585-dd30ffd6939c",
   "metadata": {},
   "outputs": [],
   "source": [
    "Next need to import libraries to setup and get the environment ready"
   ]
  },
  {
   "cell_type": "code",
   "execution_count": null,
   "id": "7f7a4b4b-8c2f-4acc-8962-625c687f9fc9",
   "metadata": {},
   "outputs": [],
   "source": [
    "!pip install -q autogluon"
   ]
  },
  {
   "cell_type": "code",
   "execution_count": null,
   "id": "d32e6fdb-d499-42c0-aa03-0b1724349289",
   "metadata": {},
   "outputs": [],
   "source": [
    "from autogluon.tabular import TabularPredictor, TabularDataset\n",
    "import pandas as pd"
   ]
  },
  {
   "cell_type": "code",
   "execution_count": null,
   "id": "32091d89-fbad-4da9-a04b-576f3eb3bc9a",
   "metadata": {},
   "outputs": [],
   "source": [
    "train_data = TabularDataset(data=\"train_car.csv\")\n",
    "test_data = TabularDataset(data=\"test_car.csv\")"
   ]
  },
  {
   "cell_type": "code",
   "execution_count": null,
   "id": "c0d4e6d0-0f4b-43bc-a123-35ffd0b1bdcb",
   "metadata": {},
   "outputs": [],
   "source": [
    "train_data.head()"
   ]
  },
  {
   "cell_type": "code",
   "execution_count": null,
   "id": "947e71a4-133c-484c-b013-16bc473bc700",
   "metadata": {},
   "outputs": [],
   "source": [
    "#sampling\n",
    "sample_size = 1000\n",
    "train_data_small = train_data.sample(n=sample_size, random_state=0)\n",
    "\n",
    "train_data_small.head()"
   ]
  },
  {
   "cell_type": "code",
   "execution_count": null,
   "id": "04f38980-de2f-40c4-838d-48b4abfe665a",
   "metadata": {},
   "outputs": [],
   "source": [
    "predict_smaller = TabularPredictor(label=\"Price\",\n",
    "                                   eval_metric=\"mean_squared_error\",\n",
    "                                   path=\"predict_smaller\"\n",
    "                                  ).fit(train_data_small)"
   ]
  },
  {
   "cell_type": "code",
   "execution_count": null,
   "id": "c8bd0375-04dd-4e2a-a313-175e9043118c",
   "metadata": {},
   "outputs": [],
   "source": [
    "predict_smaller.leaderboard(silent=True)"
   ]
  },
  {
   "cell_type": "code",
   "execution_count": null,
   "id": "1207f4c2-7a1a-4de7-9acd-3e055dc2a674",
   "metadata": {},
   "outputs": [],
   "source": [
    "test_data.head()"
   ]
  },
  {
   "cell_type": "code",
   "execution_count": null,
   "id": "cae5a704-36f1-43d0-9660-64d993b6953c",
   "metadata": {},
   "outputs": [],
   "source": [
    "price_predict = predict_smaller.predict(test_data)\n",
    "print(f\"Some predicted results\") \n",
    "print(f\"{price_predict[0:10]}\")"
   ]
  },
  {
   "cell_type": "code",
   "execution_count": null,
   "id": "4458a956-cdee-4134-918b-9fda2a659d7c",
   "metadata": {},
   "outputs": [],
   "source": [
    "output_data = pd.DataFrame(columns=[\"Name\",\"Price\"])\n",
    "output_data[\"Name\"] = test_data[\"Name\"].tolist()\n",
    "print(f\"{output_data[0:10]}\")"
   ]
  },
  {
   "cell_type": "code",
   "execution_count": null,
   "id": "10b64e38-745c-4b93-aad7-f61389690a77",
   "metadata": {},
   "outputs": [],
   "source": [
    "output_data[\"Price\"] = price_predict\n",
    "print(f\"{output_data[0:10]}\")"
   ]
  },
  {
   "cell_type": "code",
   "execution_count": null,
   "id": "c2bac3cb-f3e6-46e0-911e-4b9f7f44a20d",
   "metadata": {},
   "outputs": [],
   "source": [
    "actual_data = TabularDataset(data=\"test_actual.csv\")\n",
    "print(f\"{actual_data[0:10]}\")"
   ]
  },
  {
   "cell_type": "code",
   "execution_count": null,
   "id": "bb8fe109-401c-4561-ad33-b44a6c914d99",
   "metadata": {},
   "outputs": [],
   "source": [
    "output_data.to_csv(\"output_smaller.csv\", index=False)"
   ]
  },
  {
   "cell_type": "code",
   "execution_count": null,
   "id": "a1c087b3-3b85-47c2-a26d-337d2c52cd97",
   "metadata": {},
   "outputs": [],
   "source": [
    "#2 create model\n",
    "predictor = TabularPredictor(label=\"Price\",\n",
    "                             eval_metric=\"mean_squared_error\",\n",
    "                             path=\"predictor\"\n",
    "                            ).fit(train_data=train_data,\n",
    "                                 time_limit=5*60)"
   ]
  },
  {
   "cell_type": "code",
   "execution_count": null,
   "id": "fd7ff06d-8a42-447e-8aa0-535933830c5d",
   "metadata": {},
   "outputs": [],
   "source": [
    "#3 predict using predictor model\n",
    "final_prediction = predictor.predict(test_data)\n",
    "\n",
    "#4 output save\n",
    "output_data = pd.DataFrame(columns=[\"Name\",\"Price\"])\n",
    "output_data[\"Name\"] = test_data[\"Name\"].tolist()\n",
    "output_data[\"Price\"] = final_prediction\n",
    "\n",
    "print(f\"{output_data[0:10]}\")"
   ]
  },
  {
   "cell_type": "code",
   "execution_count": null,
   "id": "0cc69409-04de-4310-a0ef-0e5141506e51",
   "metadata": {},
   "outputs": [],
   "source": [
    "actual_data = TabularDataset(data=\"test_actual.csv\")\n",
    "print(f\"{actual_data[0:10]}\")"
   ]
  },
  {
   "cell_type": "code",
   "execution_count": null,
   "id": "36961900-7f41-4ffa-8224-32958d91b67e",
   "metadata": {},
   "outputs": [],
   "source": [
    "output_data.to_csv(\"output.csv\", sep='\\t', encoding = 'utf-8')"
   ]
  },
  {
   "cell_type": "code",
   "execution_count": null,
   "id": "95cb392f-0afa-48e2-b664-55bb40fec60f",
   "metadata": {},
   "outputs": [],
   "source": [
    "predict_smaller.feature_importance(train_data_small)"
   ]
  },
  {
   "cell_type": "code",
   "execution_count": null,
   "id": "a8fa3a5e-25b6-47a0-84cf-879ee52097b8",
   "metadata": {},
   "outputs": [],
   "source": [
    "predictor.feature_importance(train_data)"
   ]
  },
  {
   "cell_type": "code",
   "execution_count": null,
   "id": "e421f58c-9cbc-44aa-8472-cdd526560427",
   "metadata": {},
   "outputs": [],
   "source": []
  }
 ],
 "metadata": {
  "kernelspec": {
   "display_name": "Python 3 (ipykernel)",
   "language": "python",
   "name": "python3"
  },
  "language_info": {
   "codemirror_mode": {
    "name": "ipython",
    "version": 3
   },
   "file_extension": ".py",
   "mimetype": "text/x-python",
   "name": "python",
   "nbconvert_exporter": "python",
   "pygments_lexer": "ipython3",
   "version": "3.9.13"
  }
 },
 "nbformat": 4,
 "nbformat_minor": 5
}
